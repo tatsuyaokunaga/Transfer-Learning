{
 "cells": [
  {
   "cell_type": "markdown",
   "metadata": {},
   "source": [
    "# Transfer Learning\n",
    "\n",
    "## VGG16とInceptionV3で転移学習\n",
    "\n",
    "Dataset\n",
    ">https://www.kaggle.com/moltean/fruits\n",
    "\n",
    "Dataset properties\n",
    "Total number of images: 49606.\n",
    "\n",
    "Training set size: 37101 images (one fruit per image).\n",
    "\n",
    "Test set size: 12460 images (one fruit per image).\n",
    "\n",
    "Multi-fruits set size: 45 images (more than one fruit (or fruit class) per image)\n",
    "\n",
    "Number of classes: 74 (fruits)."
   ]
  },
  {
   "cell_type": "markdown",
   "metadata": {},
   "source": [
    "## ライブラリのインポート"
   ]
  },
  {
   "cell_type": "code",
   "execution_count": 2,
   "metadata": {},
   "outputs": [],
   "source": [
    "import tensorflow as tf            \n",
    "import pandas as pd                 \n",
    "import numpy as np                                       \n",
    "import sklearn.model_selection     # For using KFold\n",
    "import keras.preprocessing.image   # For using image generation\n",
    "import datetime                    # To measure running time \n",
    "import skimage.transform           # For resizing images\n",
    "import skimage.morphology          # For using image labeling\n",
    "import cv2                         # To read and manipulate images\n",
    "import os                          # For filepath, directory handling\n",
    "import sys                         # System-specific parameters and functions\n",
    "import tqdm                        # Use smart progress meter\n",
    "import seaborn as sns              # For pairplots\n",
    "import matplotlib.pyplot as plt    # Python 2D plotting library\n",
    "import matplotlib.cm as cm    "
   ]
  },
  {
   "cell_type": "code",
   "execution_count": 3,
   "metadata": {
    "scrolled": true
   },
   "outputs": [
    {
     "name": "stdout",
     "output_type": "stream",
     "text": [
      "Original image shape: (100, 100, 3)\n"
     ]
    }
   ],
   "source": [
    "import pathlib\n",
    "import imageio\n",
    "import numpy as np\n",
    "\n",
    "# Glob the training data and load a single image path\n",
    "training_paths = pathlib.Path('./fruits-360/Training').glob('*/*.jpg')\n",
    "training_sorted = sorted([x for x in training_paths])\n",
    "im_path = training_sorted[30000]\n",
    "im = imageio.imread(str(im_path))\n",
    "# Print the image dimensions\n",
    "print('Original image shape: {}'.format(im.shape))"
   ]
  },
  {
   "cell_type": "markdown",
   "metadata": {},
   "source": [
    " ## サンプル画像を参照"
   ]
  },
  {
   "cell_type": "code",
   "execution_count": 4,
   "metadata": {},
   "outputs": [
    {
     "data": {
      "text/plain": [
       "Text(0.5,1,'Original Image')"
      ]
     },
     "execution_count": 4,
     "metadata": {},
     "output_type": "execute_result"
    },
    {
     "data": {
      "image/png": "[encoded data removed]",
      "text/plain": [
       "<Figure size 720x288 with 1 Axes>"
      ]
     },
     "metadata": {},
     "output_type": "display_data"
    }
   ],
   "source": [
    "import matplotlib.pyplot as plt\n",
    "%matplotlib inline\n",
    "\n",
    "# Now, let's plot the data\n",
    "\n",
    "plt.figure(figsize=(10,4))\n",
    "\n",
    "plt.subplot(1,2,1)\n",
    "plt.imshow(im)\n",
    "plt.axis('off')\n",
    "plt.title('Original Image')"
   ]
  },
  {
   "cell_type": "markdown",
   "metadata": {},
   "source": [
    "## CNN(by keras)で学習"
   ]
  },
  {
   "cell_type": "code",
   "execution_count": 5,
   "metadata": {},
   "outputs": [],
   "source": [
    "import keras\n",
    "from keras.models import Sequential\n",
    "from keras.layers import Dense, Dropout, Flatten\n",
    "from keras.layers import Conv2D, MaxPooling2D\n",
    "from keras import optimizers\n",
    "#GPUのメモリ確保\n",
    "\n",
    "import tensorflow as tf\n",
    "from keras import backend as K\n",
    "config = tf.ConfigProto()\n",
    "config.gpu_options.per_process_gpu_memory_fraction = 0.6\n",
    "sess = tf.Session(config=config)\n",
    "K.set_session(sess)"
   ]
  },
  {
   "cell_type": "code",
   "execution_count": 6,
   "metadata": {},
   "outputs": [],
   "source": [
    "import cv2\n",
    "import os\n",
    "from keras.utils import np_utils\n",
    "\n",
    "def load_images(path):\n",
    "    img_data=[]\n",
    "    labels=[]\n",
    "    idx_to_label = []\n",
    "    i = -1\n",
    "    for fruit in next(os.walk(path))[1]:   #  os.listdir(path):\n",
    "        fruit_path = os.path.join(path,fruit)\n",
    "        labels.append(fruit)\n",
    "        i = i+1\n",
    "        for img in os.listdir(fruit_path):\n",
    "            img_path = os.path.join(fruit_path,img)\n",
    "            idx_to_label.append(i)\n",
    "            image = cv2.imread(img_path)\n",
    "           # image = cv2.resize(image, (64, 64))\n",
    "            \n",
    "          #  image = cv2.cvtColor(image, cv2.COLOR_RGB2BGR)\n",
    "            img_data.append(image)\n",
    "    return np.array(img_data),np.array(idx_to_label),labels  \n",
    "        "
   ]
  },
  {
   "cell_type": "code",
   "execution_count": 7,
   "metadata": {},
   "outputs": [
    {
     "name": "stdout",
     "output_type": "stream",
     "text": [
      "(37101, 100, 100, 3)\n",
      "(37101,)\n",
      "['Apple Red Delicious', 'Huckleberry', 'Melon Piel de Sapo', 'Pear', 'Cherry 1', 'Strawberry', 'Avocado', 'Pomegranate', 'Dates', 'Carambula', 'Granadilla', 'Tamarillo', 'Kiwi', 'Cherry Wax Yellow', 'Lemon', 'Guava', 'Apple Golden 2', 'Apple Red 1', 'Mandarine', 'Quince', 'Strawberry Wedge', 'Pear Monster', 'Raspberry', 'Pitahaya Red', 'Apple Golden 3', 'Grape Pink', 'Banana Red', 'Physalis', 'Cherry Rainier', 'Maracuja', 'Plum', 'Nectarine', 'Cherry Wax Black', 'Cantaloupe 2', 'Lychee', 'Clementine', 'Cherry 2', 'Pineapple Mini', 'Rambutan', 'Grape White', 'Apple Braeburn', 'Mango', 'Cocos', 'Mulberry', 'Avocado ripe', 'Passion Fruit', 'Apple Granny Smith', 'Kumquats', 'Grape White 2', 'Apricot', 'Limes', 'Apple Red Yellow', 'Pear Williams', 'Salak', 'Grapefruit Pink', 'Apple Golden 1', 'Banana', 'Apple Red 2', 'Physalis with Husk', 'Lemon Meyer', 'Pepino', 'Tangelo', 'Cactus fruit', 'Papaya', 'Apple Red 3', 'Pear Abate', 'Pineapple', 'Cherry Wax Red', 'Orange', 'Kaki', 'Grapefruit White', 'Peach', 'Cantaloupe 1', 'Peach Flat']\n"
     ]
    }
   ],
   "source": [
    "train_data_path = './fruits-360/Training'\n",
    "test_data_path = './fruits-360/Test'\n",
    "x,y,labels_data = load_images(train_data_path)\n",
    "\n",
    "#X_train,y_train,label_data = load_images(trn_data_path)\n",
    "print(x.shape)\n",
    "print(y.shape)\n",
    "print(labels_data)\n",
    "X_test,y_test,label_data_garbage = load_images(test_data_path)"
   ]
  },
  {
   "cell_type": "code",
   "execution_count": 8,
   "metadata": {},
   "outputs": [],
   "source": [
    "# floatに型変換\n",
    "x= x.astype('float32')\n",
    "X_test = X_test.astype('float32')\n",
    "# 各画素値を正規化\n",
    "x /= 255.0\n",
    "X_test /= 255.0"
   ]
  },
  {
   "cell_type": "code",
   "execution_count": 9,
   "metadata": {},
   "outputs": [],
   "source": [
    "# one-hot型に変換\n",
    "nb_classes = 74\n",
    "y = np_utils.to_categorical(y, nb_classes)\n",
    "Y_test = np_utils.to_categorical(y_test, nb_classes)"
   ]
  },
  {
   "cell_type": "code",
   "execution_count": 10,
   "metadata": {},
   "outputs": [
    {
     "name": "stderr",
     "output_type": "stream",
     "text": [
      "/Users/okunagatatsuya/.pyenv/versions/anaconda3-5.2.0/lib/python3.6/site-packages/sklearn/model_selection/_split.py:2026: FutureWarning: From version 0.21, test_size will always complement train_size unless both are specified.\n",
      "  FutureWarning)\n"
     ]
    }
   ],
   "source": [
    "from sklearn.model_selection import train_test_split\n",
    "\n",
    "X_train, X_val, Y_train, Y_val = train_test_split(x, y, train_size=0.8)"
   ]
  },
  {
   "cell_type": "code",
   "execution_count": 29,
   "metadata": {
    "collapsed": true
   },
   "outputs": [],
   "source": [
    "def Mynet(img_height=100, img_width=100):\n",
    "    model = Sequential()\n",
    "    # 入力: サイズが100x100で3チャンネル\n",
    "    # それぞれのlayerで3x3の畳み込み処理を適用している\n",
    "    model.add(Conv2D(32, (3, 3), activation='relu', \n",
    "                     input_shape=(img_height, img_width, 3)))\n",
    "    model.add(Conv2D(32, (3, 3), activation='relu'))\n",
    "    model.add(MaxPooling2D(pool_size=(2, 2)))\n",
    "    model.add(Dropout(0.25))\n",
    "\n",
    "    model.add(Conv2D(64, (3, 3), activation='relu'))\n",
    "    model.add(Conv2D(64, (3, 3), activation='relu'))\n",
    "    model.add(MaxPooling2D(pool_size=(2, 2)))\n",
    "    model.add(Dropout(0.25))\n",
    "\n",
    "    model.add(Flatten())\n",
    "    model.add(Dense(256, activation='relu'))\n",
    "    model.add(Dropout(0.5))\n",
    "    model.add(Dense(74, activation='softmax'))\n",
    "    \n",
    "    return model\n",
    "\n",
    "model=Mynet()\n",
    "# for layer in model.layers:\n",
    "#     layer.trainable = True\n",
    "#adam = Adam(lr=1e-4)\n",
    "model.compile(loss='categorical_crossentropy', \n",
    "                 optimizer='adam',metrics=['accuracy'])\n"
   ]
  },
  {
   "cell_type": "code",
   "execution_count": 30,
   "metadata": {
    "scrolled": false
   },
   "outputs": [
    {
     "name": "stderr",
     "output_type": "stream",
     "text": [
      "/home/ubuntu/anaconda3/envs/tensorflow_p36/lib/python3.6/site-packages/keras/models.py:981: UserWarning: The `nb_epoch` argument in `fit` has been renamed `epochs`.\n",
      "  warnings.warn('The `nb_epoch` argument in `fit` '\n"
     ]
    },
    {
     "name": "stdout",
     "output_type": "stream",
     "text": [
      "Epoch 1/50\n",
      "29680/29680 [==============================] - 53s 2ms/step - loss: 1.1703 - acc: 0.6788\n",
      "Epoch 2/50\n",
      "29680/29680 [==============================] - 52s 2ms/step - loss: 0.2051 - acc: 0.9323\n",
      "Epoch 3/50\n",
      "29680/29680 [==============================] - 52s 2ms/step - loss: 0.1289 - acc: 0.9560\n",
      "Epoch 4/50\n",
      "29680/29680 [==============================] - 52s 2ms/step - loss: 0.1174 - acc: 0.9608\n",
      "Epoch 5/50\n",
      "29680/29680 [==============================] - 52s 2ms/step - loss: 0.0870 - acc: 0.9696\n",
      "Epoch 6/50\n",
      "29680/29680 [==============================] - 52s 2ms/step - loss: 0.0833 - acc: 0.9716\n",
      "Epoch 7/50\n",
      "29680/29680 [==============================] - 52s 2ms/step - loss: 0.0717 - acc: 0.9748\n",
      "Epoch 8/50\n",
      "29680/29680 [==============================] - 52s 2ms/step - loss: 0.0640 - acc: 0.9773\n",
      "Epoch 9/50\n",
      "29680/29680 [==============================] - 52s 2ms/step - loss: 0.0539 - acc: 0.9800\n",
      "Epoch 10/50\n",
      "29680/29680 [==============================] - 52s 2ms/step - loss: 0.0603 - acc: 0.9788\n",
      "Epoch 11/50\n",
      "29680/29680 [==============================] - 52s 2ms/step - loss: 0.0471 - acc: 0.9830\n",
      "Epoch 12/50\n",
      "29680/29680 [==============================] - 52s 2ms/step - loss: 0.0521 - acc: 0.9819\n",
      "Epoch 13/50\n",
      "29680/29680 [==============================] - 52s 2ms/step - loss: 0.0470 - acc: 0.9840\n",
      "Epoch 14/50\n",
      "29680/29680 [==============================] - 52s 2ms/step - loss: 0.0436 - acc: 0.9834\n",
      "Epoch 15/50\n",
      "29680/29680 [==============================] - 52s 2ms/step - loss: 0.0400 - acc: 0.9841\n",
      "Epoch 16/50\n",
      "29680/29680 [==============================] - 52s 2ms/step - loss: 0.0538 - acc: 0.9824\n",
      "Epoch 17/50\n",
      "29680/29680 [==============================] - 52s 2ms/step - loss: 0.0334 - acc: 0.9868\n",
      "Epoch 18/50\n",
      "29680/29680 [==============================] - 52s 2ms/step - loss: 0.0363 - acc: 0.9858\n",
      "Epoch 19/50\n",
      "29680/29680 [==============================] - 52s 2ms/step - loss: 0.0273 - acc: 0.9888\n",
      "Epoch 20/50\n",
      "29680/29680 [==============================] - 52s 2ms/step - loss: 0.0356 - acc: 0.9861\n",
      "Epoch 21/50\n",
      "29680/29680 [==============================] - 52s 2ms/step - loss: 0.0343 - acc: 0.9872\n",
      "Epoch 22/50\n",
      "29680/29680 [==============================] - 52s 2ms/step - loss: 0.0349 - acc: 0.9869\n",
      "Epoch 23/50\n",
      "29680/29680 [==============================] - 52s 2ms/step - loss: 0.0310 - acc: 0.9885\n",
      "Epoch 24/50\n",
      "29680/29680 [==============================] - 52s 2ms/step - loss: 0.0262 - acc: 0.9888\n",
      "Epoch 25/50\n",
      "29680/29680 [==============================] - 52s 2ms/step - loss: 0.0353 - acc: 0.9871\n",
      "Epoch 26/50\n",
      "29680/29680 [==============================] - 52s 2ms/step - loss: 0.0263 - acc: 0.9896\n",
      "Epoch 27/50\n",
      "29680/29680 [==============================] - 52s 2ms/step - loss: 0.0300 - acc: 0.9887\n",
      "Epoch 28/50\n",
      "29680/29680 [==============================] - 52s 2ms/step - loss: 0.0329 - acc: 0.9883\n",
      "Epoch 29/50\n",
      "29680/29680 [==============================] - 52s 2ms/step - loss: 0.0243 - acc: 0.9901\n",
      "Epoch 30/50\n",
      "29680/29680 [==============================] - 52s 2ms/step - loss: 0.0301 - acc: 0.9892\n",
      "Epoch 31/50\n",
      "29680/29680 [==============================] - 52s 2ms/step - loss: 0.0358 - acc: 0.9870\n",
      "Epoch 32/50\n",
      "29680/29680 [==============================] - 52s 2ms/step - loss: 0.0330 - acc: 0.9884\n",
      "Epoch 33/50\n",
      "29680/29680 [==============================] - 52s 2ms/step - loss: 0.0205 - acc: 0.9910\n",
      "Epoch 34/50\n",
      "29680/29680 [==============================] - 52s 2ms/step - loss: 0.0223 - acc: 0.9904\n",
      "Epoch 35/50\n",
      "29680/29680 [==============================] - 52s 2ms/step - loss: 0.0320 - acc: 0.9892\n",
      "Epoch 36/50\n",
      "29680/29680 [==============================] - 52s 2ms/step - loss: 0.0272 - acc: 0.9890\n",
      "Epoch 37/50\n",
      "29680/29680 [==============================] - 52s 2ms/step - loss: 0.0265 - acc: 0.9896\n",
      "Epoch 38/50\n",
      "29680/29680 [==============================] - 52s 2ms/step - loss: 0.0249 - acc: 0.9901\n",
      "Epoch 39/50\n",
      "29680/29680 [==============================] - 52s 2ms/step - loss: 0.0272 - acc: 0.9896\n",
      "Epoch 40/50\n",
      "29680/29680 [==============================] - 52s 2ms/step - loss: 0.0278 - acc: 0.9902\n",
      "Epoch 41/50\n",
      "29680/29680 [==============================] - 52s 2ms/step - loss: 0.0218 - acc: 0.9906\n",
      "Epoch 42/50\n",
      "29680/29680 [==============================] - 52s 2ms/step - loss: 0.0330 - acc: 0.9887\n",
      "Epoch 43/50\n",
      "29680/29680 [==============================] - 52s 2ms/step - loss: 0.0224 - acc: 0.9906\n",
      "Epoch 44/50\n",
      "29680/29680 [==============================] - 52s 2ms/step - loss: 0.0376 - acc: 0.9885\n",
      "Epoch 45/50\n",
      "29680/29680 [==============================] - 52s 2ms/step - loss: 0.0195 - acc: 0.9918\n",
      "Epoch 46/50\n",
      "29680/29680 [==============================] - 52s 2ms/step - loss: 0.0194 - acc: 0.9907\n",
      "Epoch 47/50\n",
      "29680/29680 [==============================] - 52s 2ms/step - loss: 0.0287 - acc: 0.9896\n",
      "Epoch 48/50\n",
      "29680/29680 [==============================] - 52s 2ms/step - loss: 0.0277 - acc: 0.9904\n",
      "Epoch 49/50\n",
      "29680/29680 [==============================] - 52s 2ms/step - loss: 0.0241 - acc: 0.9905\n",
      "Epoch 50/50\n",
      "29680/29680 [==============================] - 52s 2ms/step - loss: 0.0290 - acc: 0.9902\n"
     ]
    }
   ],
   "source": [
    "#学習の実行\n",
    "history = model.fit(X_train, Y_train, batch_size=32, nb_epoch=50,\n",
    "                    verbose=1)"
   ]
  },
  {
   "cell_type": "code",
   "execution_count": null,
   "metadata": {
    "collapsed": true
   },
   "outputs": [],
   "source": [
    "# # モデルをプロット\n",
    "# plot_model(model, to_file='./model2.png')"
   ]
  },
  {
   "cell_type": "code",
   "execution_count": 32,
   "metadata": {
    "collapsed": true,
    "scrolled": true
   },
   "outputs": [],
   "source": [
    "# json_string = model.to_json()\n",
    "# open(os.path.join('./', 'cnn_model.json'), 'w').write(json_string)\n",
    "# 重みの保存\n",
    "model.save_weights(os.path.join('./', 'model_weight.hdf5'))"
   ]
  },
  {
   "cell_type": "code",
   "execution_count": 35,
   "metadata": {},
   "outputs": [
    {
     "name": "stdout",
     "output_type": "stream",
     "text": [
      "7421/7421 [==============================] - 4s 510us/step\n",
      "X_val loss: 0.020009640345518588\n",
      "Y_val,accuracy: 0.9928581053766339\n",
      "12460/12460 [==============================] - 6s 498us/step\n",
      "Test loss: 0.6479684308400814\n",
      "Test accuracy: 0.9272873194221509\n"
     ]
    }
   ],
   "source": [
    "# バリデーションデータのlossとaccuracyを表示\n",
    "score = model.evaluate(X_val, Y_val, batch_size=32)\n",
    "print('X_val loss:', score[0])\n",
    "print('Y_val,accuracy:', score[1])\n",
    "# テストデータのlossとaccuracyを表示\n",
    "score = model.evaluate(X_test, Y_test, verbose=1)\n",
    "print('Test loss:', score[0])\n",
    "print('Test accuracy:', score[1])"
   ]
  },
  {
   "cell_type": "markdown",
   "metadata": {},
   "source": [
    "##  学習したモデルでテスト"
   ]
  },
  {
   "cell_type": "code",
   "execution_count": 37,
   "metadata": {
    "collapsed": true
   },
   "outputs": [],
   "source": [
    "model = Mynet()\n",
    "model.load_weights('model_weight.hdf5')\n",
    "model.compile(loss='categorical_crossentropy',\n",
    "                  optimizer='adam',\n",
    "                  metrics=['accuracy'])"
   ]
  },
  {
   "cell_type": "markdown",
   "metadata": {
    "collapsed": true
   },
   "source": [
    "###  画像を一枚読み込みテスト"
   ]
  },
  {
   "cell_type": "code",
   "execution_count": 39,
   "metadata": {
    "collapsed": true
   },
   "outputs": [],
   "source": [
    "from PIL import Image\n",
    "import pathlib\n",
    "import imageio\n",
    "import numpy as np\n",
    "img_width, img_height= 100,100\n",
    "\n",
    "# Glob the training data and load a single image path\n",
    "training_paths = pathlib.Path('./fruits-360/Training').glob('*/*.jpg')\n",
    "#training_sorted = sorted([x for x in training_paths])\n",
    "im_path = training_sorted[30001]\n",
    "im = imageio.imread(str(im_path))\n",
    "file_path = im_path\n",
    "img = Image.open(file_path).convert('RGB') ## Gray->L, RGB->RGB\n",
    "img = img.resize((img_width, img_height))\n",
    "x = np.array(img, dtype=np.float32)\n",
    "x = x / 255."
   ]
  },
  {
   "cell_type": "code",
   "execution_count": 40,
   "metadata": {
    "collapsed": true
   },
   "outputs": [],
   "source": [
    "x = x[None, ...]"
   ]
  },
  {
   "cell_type": "code",
   "execution_count": 41,
   "metadata": {
    "collapsed": true,
    "scrolled": true
   },
   "outputs": [],
   "source": [
    "#最大クラスの予測確率とインデックス\n",
    "pred = model.predict(x, batch_size=1, verbose=0)\n",
    "score = np.max(pred)\n",
    "pred_label = np.argmax(pred)"
   ]
  },
  {
   "cell_type": "code",
   "execution_count": 42,
   "metadata": {},
   "outputs": [
    {
     "name": "stdout",
     "output_type": "stream",
     "text": [
      "予測確率 1.0\n",
      "スコア 28 \n"
     ]
    }
   ],
   "source": [
    "print('予測確率 {}\\nスコア {} '.format(score,pred_label) )"
   ]
  },
  {
   "cell_type": "markdown",
   "metadata": {
    "collapsed": true
   },
   "source": [
    "# VGG16による転移学習"
   ]
  },
  {
   "cell_type": "markdown",
   "metadata": {},
   "source": [
    " ## 全結合層で学習"
   ]
  },
  {
   "cell_type": "code",
   "execution_count": 11,
   "metadata": {},
   "outputs": [],
   "source": [
    "import tensorflow as tf            \n",
    "import pandas as pd                 \n",
    "import numpy as np                                       \n",
    "import sklearn.model_selection    \n",
    "import keras.preprocessing.image   \n",
    "import datetime                    \n",
    "import skimage.transform          \n",
    "import skimage.morphology          \n",
    "import cv2                         \n",
    "import os                        \n",
    "import sys                       \n",
    "import tqdm                        \n",
    "import seaborn as sns              \n",
    "import matplotlib.pyplot as plt    \n",
    "import matplotlib.cm as cm    "
   ]
  },
  {
   "cell_type": "markdown",
   "metadata": {},
   "source": [
    "## データセット準備"
   ]
  },
  {
   "cell_type": "code",
   "execution_count": 12,
   "metadata": {},
   "outputs": [],
   "source": [
    "def load_images(path):\n",
    "    img_data=[]\n",
    "    labels=[]\n",
    "    idx_to_label = []\n",
    "    i = -1\n",
    "    for fruit in next(os.walk(path))[1]:   #  os.listdir(path):\n",
    "        fruit_path = os.path.join(path,fruit)\n",
    "        labels.append(fruit)\n",
    "        i = i+1\n",
    "        for img in os.listdir(fruit_path):\n",
    "            img_path = os.path.join(fruit_path,img)\n",
    "            idx_to_label.append(i)\n",
    "            image = cv2.imread(img_path)\n",
    "           # image = cv2.resize(image, (64, 64))\n",
    "            \n",
    "          #  image = cv2.cvtColor(image, cv2.COLOR_RGB2BGR)\n",
    "            img_data.append(image)\n",
    "    return np.array(img_data),np.array(idx_to_label),labels  "
   ]
  },
  {
   "cell_type": "code",
   "execution_count": 13,
   "metadata": {},
   "outputs": [
    {
     "name": "stdout",
     "output_type": "stream",
     "text": [
      "(37101, 100, 100, 3)\n",
      "(37101,)\n",
      "['Apple Red Delicious', 'Huckleberry', 'Melon Piel de Sapo', 'Pear', 'Cherry 1', 'Strawberry', 'Avocado', 'Pomegranate', 'Dates', 'Carambula', 'Granadilla', 'Tamarillo', 'Kiwi', 'Cherry Wax Yellow', 'Lemon', 'Guava', 'Apple Golden 2', 'Apple Red 1', 'Mandarine', 'Quince', 'Strawberry Wedge', 'Pear Monster', 'Raspberry', 'Pitahaya Red', 'Apple Golden 3', 'Grape Pink', 'Banana Red', 'Physalis', 'Cherry Rainier', 'Maracuja', 'Plum', 'Nectarine', 'Cherry Wax Black', 'Cantaloupe 2', 'Lychee', 'Clementine', 'Cherry 2', 'Pineapple Mini', 'Rambutan', 'Grape White', 'Apple Braeburn', 'Mango', 'Cocos', 'Mulberry', 'Avocado ripe', 'Passion Fruit', 'Apple Granny Smith', 'Kumquats', 'Grape White 2', 'Apricot', 'Limes', 'Apple Red Yellow', 'Pear Williams', 'Salak', 'Grapefruit Pink', 'Apple Golden 1', 'Banana', 'Apple Red 2', 'Physalis with Husk', 'Lemon Meyer', 'Pepino', 'Tangelo', 'Cactus fruit', 'Papaya', 'Apple Red 3', 'Pear Abate', 'Pineapple', 'Cherry Wax Red', 'Orange', 'Kaki', 'Grapefruit White', 'Peach', 'Cantaloupe 1', 'Peach Flat']\n"
     ]
    }
   ],
   "source": [
    "train_data_path = './fruits-360/Training'\n",
    "test_data_path = './fruits-360/Test'\n",
    "X_train,y_train,labels_data = load_images(train_data_path)\n",
    "\n",
    "print(X_train.shape)\n",
    "print(y_train.shape)\n",
    "print(labels_data)\n",
    "X_test,y_test,label_data_garbage = load_images(test_data_path)"
   ]
  },
  {
   "cell_type": "code",
   "execution_count": 14,
   "metadata": {},
   "outputs": [],
   "source": [
    "# floatに型変換\n",
    "X_train= X_train.astype('float32')\n",
    "X_test = X_test.astype('float32')\n",
    "# 各画素値を正規化\n",
    "X_train /= 255.0\n",
    "X_test /= 255.0\n",
    "# one-hot型に変換\n",
    "nb_classes = 74"
   ]
  },
  {
   "cell_type": "markdown",
   "metadata": {},
   "source": [
    "## ネットワーク構築と学習"
   ]
  },
  {
   "cell_type": "code",
   "execution_count": 82,
   "metadata": {
    "scrolled": false
   },
   "outputs": [
    {
     "name": "stderr",
     "output_type": "stream",
     "text": [
      "/home/ubuntu/anaconda3/envs/tensorflow_p36/lib/python3.6/site-packages/ipykernel_launcher.py:54: UserWarning: Update your `Model` call to the Keras 2 API: `Model(inputs=Tensor(\"in..., outputs=Tensor(\"se...)`\n",
      "/home/ubuntu/anaconda3/envs/tensorflow_p36/lib/python3.6/site-packages/ipykernel_launcher.py:81: UserWarning: The semantics of the Keras 2 argument `steps_per_epoch` is not the same as the Keras 1 argument `samples_per_epoch`. `steps_per_epoch` is the number of batches to draw from the generator at each epoch. Basically steps_per_epoch = samples_per_epoch/batch_size. Similarly `nb_val_samples`->`validation_steps` and `val_samples`->`steps` arguments have changed. Update your method calls accordingly.\n",
      "/home/ubuntu/anaconda3/envs/tensorflow_p36/lib/python3.6/site-packages/ipykernel_launcher.py:81: UserWarning: Update your `fit_generator` call to the Keras 2 API: `fit_generator(<keras.pre..., verbose=1, validation_data=(array([[[..., callbacks=[<keras.ca..., steps_per_epoch=1159, epochs=50)`\n"
     ]
    },
    {
     "name": "stdout",
     "output_type": "stream",
     "text": [
      "Epoch 1/50\n",
      "1159/1159 [==============================] - 151s 131ms/step - loss: 1.5325 - acc: 0.6010 - val_loss: 0.8579 - val_acc: 0.7939\n",
      "\n",
      "Epoch 00001: val_loss improved from inf to 0.85787, saving model to /home/ubuntu/vgg_model[%d].h5\n",
      "Epoch 2/50\n",
      "1159/1159 [==============================] - 150s 129ms/step - loss: 0.2474 - acc: 0.9246 - val_loss: 0.3255 - val_acc: 0.9211\n",
      "\n",
      "Epoch 00002: val_loss improved from 0.85787 to 0.32554, saving model to /home/ubuntu/vgg_model[%d].h5\n",
      "Epoch 3/50\n",
      "1159/1159 [==============================] - 150s 129ms/step - loss: 0.1501 - acc: 0.9584 - val_loss: 0.2858 - val_acc: 0.9327\n",
      "\n",
      "Epoch 00003: val_loss improved from 0.32554 to 0.28580, saving model to /home/ubuntu/vgg_model[%d].h5\n",
      "Epoch 4/50\n",
      "1159/1159 [==============================] - 150s 129ms/step - loss: 0.1197 - acc: 0.9688 - val_loss: 0.2470 - val_acc: 0.9562\n",
      "\n",
      "Epoch 00004: val_loss improved from 0.28580 to 0.24702, saving model to /home/ubuntu/vgg_model[%d].h5\n",
      "Epoch 5/50\n",
      "1159/1159 [==============================] - 151s 130ms/step - loss: 0.1039 - acc: 0.9735 - val_loss: 0.2794 - val_acc: 0.9346\n",
      "\n",
      "Epoch 00005: val_loss did not improve from 0.24702\n",
      "Epoch 6/50\n",
      "1159/1159 [==============================] - 150s 129ms/step - loss: 0.1044 - acc: 0.9756 - val_loss: 0.2222 - val_acc: 0.9585\n",
      "\n",
      "Epoch 00006: val_loss improved from 0.24702 to 0.22223, saving model to /home/ubuntu/vgg_model[%d].h5\n",
      "Epoch 7/50\n",
      "1159/1159 [==============================] - 150s 130ms/step - loss: 0.0918 - acc: 0.9781 - val_loss: 0.2746 - val_acc: 0.9520\n",
      "\n",
      "Epoch 00007: val_loss did not improve from 0.22223\n",
      "Epoch 8/50\n",
      "1159/1159 [==============================] - 151s 130ms/step - loss: 0.0874 - acc: 0.9790 - val_loss: 0.2689 - val_acc: 0.9594\n",
      "\n",
      "Epoch 00008: val_loss did not improve from 0.22223\n",
      "Epoch 9/50\n",
      "1159/1159 [==============================] - 151s 130ms/step - loss: 0.0768 - acc: 0.9818 - val_loss: 0.2419 - val_acc: 0.9617\n",
      "\n",
      "Epoch 00009: val_loss did not improve from 0.22223\n",
      "Epoch 10/50\n",
      "1159/1159 [==============================] - 151s 130ms/step - loss: 0.0880 - acc: 0.9818 - val_loss: 0.3603 - val_acc: 0.9448\n",
      "\n",
      "Epoch 00010: val_loss did not improve from 0.22223\n",
      "Epoch 11/50\n",
      "1159/1159 [==============================] - 149s 129ms/step - loss: 0.0947 - acc: 0.9811 - val_loss: 0.3002 - val_acc: 0.9579\n",
      "\n",
      "Epoch 00011: val_loss did not improve from 0.22223\n",
      "Epoch 00011: early stopping\n",
      "Test loss: 0.3002047669224167\n",
      "Test accuracy: 0.9578651685393258\n"
     ]
    }
   ],
   "source": [
    "from __future__ import print_function\n",
    "import os\n",
    "import struct\n",
    "import numpy as np\n",
    "from keras.applications.vgg16 import VGG16\n",
    "from keras.models import Sequential, Model\n",
    "from keras.layers import Input, Dense, Dropout, Activation, Flatten\n",
    "from keras.optimizers import SGD\n",
    "from keras.callbacks import EarlyStopping, ModelCheckpoint\n",
    "from keras.utils import np_utils\n",
    "from sklearn.model_selection import KFold\n",
    "from sklearn.model_selection import train_test_split\n",
    "from keras.preprocessing.image import ImageDataGenerator\n",
    "from keras.utils import np_utils\n",
    "\n",
    "# 各種パラメータ\n",
    "nb_classes = 74          # 分類するクラス数\n",
    "nb_epoch = 50            # 最適化計算のループ回数\n",
    "batch_size = 32          # 計算効率化のために分割された訓練データの１グループあたりのデータ数\n",
    "img_rows, img_cols = 100, 100     # 入力画像の縦横pixel数  \n",
    "index = 0\n",
    "epochs = 50\n",
    "model_weights = '/home/ubuntu/vgg_model[%d].h5'\n",
    "\n",
    "# データの水増し（Data Augmentation）\n",
    "datagen = ImageDataGenerator(\n",
    "                             rotation_range=180, #画像をランダムに回転する回転範囲．\n",
    "                             horizontal_flip=True, #水平方向に入力をランダムに反転\n",
    "                             fill_mode='nearest')\n",
    "\n",
    "# 水増し画像を訓練用画像の形式に合わせる\n",
    "datagen.fit(X_train)\n",
    "#datagen.fit(X_)\n",
    "\n",
    "# クラスラベル y （数字の0~2）を、one-hotエンコーディング型式に変換\n",
    "y_train = np_utils.to_categorical(y_train, nb_classes)\n",
    "y_test = np_utils.to_categorical(y_test, nb_classes)\n",
    "\n",
    "\n",
    "# VGG16モデルと学習済みの重みをロード（全結合層は除く）\n",
    "input_tensor = Input(shape=(img_rows, img_cols,3))\n",
    "# include_top:ネットワークの出力層側にある3つの全結合層を含むかどうか\n",
    "\n",
    "vgg16_model = VGG16(include_top=False, weights='imagenet', input_tensor=input_tensor)\n",
    "\n",
    "# 全結合層の構築\n",
    "top_model = Sequential()\n",
    "top_model.add(Flatten(input_shape=vgg16_model.output_shape[1:]))\n",
    "top_model.add(Dense(256))\n",
    "top_model.add(Activation(\"relu\"))\n",
    "top_model.add(Dropout(0.5))\n",
    "top_model.add(Dense(nb_classes))\n",
    "top_model.add(Activation(\"softmax\"))\n",
    "\n",
    "# 全結合層を削除したVGG16モデルと上で自前で構築した全結合層を結合\n",
    "model = Model(input=vgg16_model.input, output=top_model(vgg16_model.output))\n",
    "\n",
    "#14層目までのモデル重みを固定（VGG16のモデル重みを用いる）\n",
    "for layer in model.layers[:15]:\n",
    "    layer.trainable = False\n",
    "\n",
    "# モデルのコンパイル\n",
    "model.compile(loss=keras.losses.categorical_crossentropy,\n",
    "              optimizer=keras.optimizers.Adadelta(),\n",
    "              metrics=['accuracy'])\n",
    "\n",
    "# 過学習の抑制\n",
    "early_stopping = EarlyStopping(monitor='val_loss', patience=5 , verbose=1)\n",
    "\n",
    "# 評価に用いるモデル重みデータの保存\n",
    "checkpointer = ModelCheckpoint(model_weights, monitor='val_loss', verbose=1, save_best_only=True)\n",
    "\n",
    "# リアルタイムに水増し生成されるバッチ画像に対するモデルの適用\n",
    "history = model.fit_generator(datagen.flow(X_train, y_train, batch_size=batch_size),\n",
    "                          samples_per_epoch=X_train.shape[0],\n",
    "                          nb_epoch=nb_epoch,\n",
    "                          verbose=1,\n",
    "                          validation_data=(X_test, y_test),\n",
    "                          callbacks=[early_stopping, checkpointer])\n",
    "\n",
    "score = model.evaluate(X_test, y_test, verbose=0)\n",
    "print('Test loss:', score[0])\n",
    "print('Test accuracy:', score[1])\n",
    "\n",
    "\n",
    "# 評価に用いるモデル構造の保存\n",
    "def save_model(model):\n",
    "    json_string = model.to_json()\n",
    "    if not os.path.isdir(\"vgg_model\"):\n",
    "        os.mkdir(\"vgg_model\")\n",
    "    json_name = \"architecture.json\"\n",
    "    open(os.path.join(\"vgg_model\", json_name),\"w\").write(json_string)\n",
    "\n",
    "save_model(model)"
   ]
  },
  {
   "cell_type": "markdown",
   "metadata": {},
   "source": [
    "## Accuracy 約95.7%"
   ]
  },
  {
   "cell_type": "markdown",
   "metadata": {},
   "source": [
    "## 正解率とlossをプロット"
   ]
  },
  {
   "cell_type": "code",
   "execution_count": 83,
   "metadata": {},
   "outputs": [
    {
     "data": {
      "image/png": "[encoded data removed]",
      "text/plain": [
       "<Figure size 432x288 with 1 Axes>"
      ]
     },
     "metadata": {},
     "output_type": "display_data"
    },
    {
     "data": {
      "image/png": "[encoded data removed]",
      "text/plain": [
       "<Figure size 432x288 with 1 Axes>"
      ]
     },
     "metadata": {},
     "output_type": "display_data"
    }
   ],
   "source": [
    "#Accuracy\n",
    "plt.plot(history.history['acc'])\n",
    "plt.plot(history.history['val_acc'])\n",
    "plt.title('model accuracy')\n",
    "plt.ylabel('accuracy')\n",
    "plt.xlabel('epoch')\n",
    "plt.legend(['train', 'test'], loc='upper left')\n",
    "plt.show()\n",
    "#loss\n",
    "plt.plot(history.history['loss'])\n",
    "plt.plot(history.history['val_loss'])\n",
    "plt.title('model loss')\n",
    "plt.ylabel('loss')\n",
    "plt.xlabel('epoch')\n",
    "plt.legend(['train', 'test'], loc='upper left')\n",
    "plt.show()"
   ]
  },
  {
   "cell_type": "markdown",
   "metadata": {},
   "source": [
    "# Inception-v3 で転移学習\n",
    "## データセット準備"
   ]
  },
  {
   "cell_type": "code",
   "execution_count": 2,
   "metadata": {},
   "outputs": [],
   "source": [
    "import keras\n",
    "from PIL import Image\n",
    "from keras.datasets import cifar10\n",
    "from keras import applications\n",
    "from keras.preprocessing.image import ImageDataGenerator\n",
    "from keras.models import Sequential\n",
    "from keras.layers import Dropout, Flatten, Dense, GlobalAveragePooling2D, GlobalMaxPooling2D\n",
    "import numpy as np\n",
    "import matplotlib.pyplot as plt\n",
    "%matplotlib inline\n",
    "import os\n",
    "import cv2\n",
    "\n",
    "def load_images(path):\n",
    "    img_data=[]\n",
    "    labels=[]\n",
    "    idx_to_label = []\n",
    "    i = -1\n",
    "    for fruit in next(os.walk(path))[1]:   #  os.listdir(path):\n",
    "        fruit_path = os.path.join(path,fruit)\n",
    "        labels.append(fruit)\n",
    "        i = i+1\n",
    "        for img in os.listdir(fruit_path):\n",
    "            img_path = os.path.join(fruit_path,img)\n",
    "            idx_to_label.append(i)\n",
    "            image = cv2.imread(img_path)\n",
    "            image = cv2.resize(image, (150, 150))\n",
    "            #  詳細　https://note.nkmk.me/python-opencv-bgr-rgb-cvtcolor/\n",
    "            image = cv2.cvtColor(image, cv2.COLOR_RGB2BGR)\n",
    "            \n",
    "            img_data.append(image)\n",
    "    return np.array(img_data),np.array(idx_to_label),labels  \n",
    "\n",
    "train_data_path = './fruits-360/Training'\n",
    "test_data_path = './fruits-360/Test'\n",
    "X_train,y_train,labels_data = load_images(train_data_path)\n",
    "\n",
    "X_test,y_test,label_data_garbage = load_images(test_data_path)\n",
    "\n",
    "# floatに型変換\n",
    "X_train = X_train.astype('float32')\n",
    "X_test = X_test.astype('float32')\n",
    "# 各画素値を正規化\n",
    "X_train/= 255.0\n",
    "X_test/= 255.0"
   ]
  },
  {
   "cell_type": "markdown",
   "metadata": {},
   "source": [
    "## ネットワーク構築と学習"
   ]
  },
  {
   "cell_type": "code",
   "execution_count": 3,
   "metadata": {
    "scrolled": false
   },
   "outputs": [
    {
     "name": "stderr",
     "output_type": "stream",
     "text": [
      "/Users/okunagatatsuya/.pyenv/versions/anaconda3-5.2.0/lib/python3.6/site-packages/ipykernel_launcher.py:56: UserWarning: Update your `Model` call to the Keras 2 API: `Model(inputs=Tensor(\"in..., outputs=Tensor(\"se...)`\n",
      "/Users/okunagatatsuya/.pyenv/versions/anaconda3-5.2.0/lib/python3.6/site-packages/ipykernel_launcher.py:81: UserWarning: The semantics of the Keras 2 argument `steps_per_epoch` is not the same as the Keras 1 argument `samples_per_epoch`. `steps_per_epoch` is the number of batches to draw from the generator at each epoch. Basically steps_per_epoch = samples_per_epoch/batch_size. Similarly `nb_val_samples`->`validation_steps` and `val_samples`->`steps` arguments have changed. Update your method calls accordingly.\n",
      "/Users/okunagatatsuya/.pyenv/versions/anaconda3-5.2.0/lib/python3.6/site-packages/ipykernel_launcher.py:81: UserWarning: Update your `fit_generator` call to the Keras 2 API: `fit_generator(<keras.pre..., verbose=1, validation_data=(array([[[..., callbacks=[<keras.ca..., steps_per_epoch=371, epochs=50)`\n"
     ]
    },
    {
     "name": "stdout",
     "output_type": "stream",
     "text": [
      "Epoch 1/50\n",
      "371/371 [==============================] - 1840s 5s/step - loss: 2.4805 - acc: 0.4087 - val_loss: 7.1323 - val_acc: 0.2006\n",
      "\n",
      "Epoch 00001: val_loss improved from inf to 7.13230, saving model to /Users/okunagatatsuya/diveintocode-term2/sprint21/v3_model[%d].h5\n",
      "Epoch 2/50\n",
      "371/371 [==============================] - 1740s 5s/step - loss: 0.9171 - acc: 0.7480 - val_loss: 7.5282 - val_acc: 0.2189\n",
      "\n",
      "Epoch 00002: val_loss did not improve from 7.13230\n",
      "Epoch 3/50\n",
      "371/371 [==============================] - 1805s 5s/step - loss: 0.6633 - acc: 0.8120 - val_loss: 7.0433 - val_acc: 0.2668\n",
      "\n",
      "Epoch 00003: val_loss improved from 7.13230 to 7.04331, saving model to /Users/okunagatatsuya/diveintocode-term2/sprint21/v3_model[%d].h5\n",
      "Epoch 4/50\n",
      "371/371 [==============================] - 1741s 5s/step - loss: 0.5497 - acc: 0.8437 - val_loss: 8.1474 - val_acc: 0.2526\n",
      "\n",
      "Epoch 00004: val_loss did not improve from 7.04331\n",
      "Epoch 5/50\n",
      "371/371 [==============================] - 1764s 5s/step - loss: 0.4996 - acc: 0.8586 - val_loss: 8.4502 - val_acc: 0.2434\n",
      "\n",
      "Epoch 00005: val_loss did not improve from 7.04331\n",
      "Epoch 6/50\n",
      "371/371 [==============================] - 1813s 5s/step - loss: 0.4405 - acc: 0.8767 - val_loss: 8.7422 - val_acc: 0.2261\n",
      "\n",
      "Epoch 00006: val_loss did not improve from 7.04331\n",
      "Epoch 7/50\n",
      "371/371 [==============================] - 1979s 5s/step - loss: 0.4072 - acc: 0.8842 - val_loss: 8.2565 - val_acc: 0.2653\n",
      "\n",
      "Epoch 00007: val_loss did not improve from 7.04331\n",
      "Epoch 8/50\n",
      "371/371 [==============================] - 1885s 5s/step - loss: 0.4145 - acc: 0.8887 - val_loss: 8.9827 - val_acc: 0.2492\n",
      "\n",
      "Epoch 00008: val_loss did not improve from 7.04331\n",
      "Epoch 00008: early stopping\n",
      "Test loss: 8.982674127932887\n",
      "Test accuracy: 0.24919743176256673\n"
     ]
    }
   ],
   "source": [
    "from __future__ import print_function\n",
    "import struct\n",
    "from keras.applications.inception_v3 import InceptionV3\n",
    "from keras.models import Sequential, Model\n",
    "from keras.layers import Input, Dense, Dropout, Activation, Flatten\n",
    "from keras.callbacks import EarlyStopping, ModelCheckpoint\n",
    "from keras.utils import np_utils\n",
    "from sklearn.model_selection import KFold\n",
    "from sklearn.model_selection import train_test_split\n",
    "from keras.preprocessing.image import ImageDataGenerator\n",
    "import numpy as np\n",
    "from keras import optimizers\n",
    "import tensorflow as tf\n",
    "from keras import backend as K\n",
    "config = tf.ConfigProto()\n",
    "config.gpu_options.per_process_gpu_memory_fraction = 0.6\n",
    "sess = tf.Session(config=config)\n",
    "K.set_session(sess)\n",
    "\n",
    "# 各種パラメータ\n",
    "nb_classes = 74          # 分類するクラス数\n",
    "nb_epoch = 50            # 最適化計算のループ回数\n",
    "batch_size = 100          # 計算効率化のために分割された訓練データの１グループあたりのデータ数\n",
    "img_rows, img_cols = 150, 150     # 入力画像の縦横pixel数  \n",
    "\n",
    "model_weights = '/Users/okunagatatsuya/diveintocode-term2/sprint21/v3_model[%d].h5'\n",
    "\n",
    "# データの水増し（Data Augmentation）\n",
    "datagen = ImageDataGenerator(\n",
    "                             rotation_range=180, #画像をランダムに回転する回転範囲．\n",
    "                             horizontal_flip=True, #水平方向に入力をランダムに反転\n",
    "                             fill_mode='nearest')\n",
    "\n",
    "# 水増し画像を訓練用画像の形式に合わせる\n",
    "datagen.fit(X_train)\n",
    "\n",
    "# クラスラベル y （数字の0~73）を、one-hotエンコーディング型式に変換\n",
    "y_train = np_utils.to_categorical(y_train, nb_classes)\n",
    "y_test = np_utils.to_categorical(y_test, nb_classes)\n",
    "\n",
    "# IntercptionV3モデルと学習済みの重みをロード（全結合層は除く）\n",
    "input_tensor = Input(shape=(img_rows, img_cols,3))\n",
    "# include_top:ネットワークの出力層側にある3つの全結合層を含むかどうか\n",
    "v3_model=InceptionV3(include_top=False, weights='imagenet', input_tensor=input_tensor)\n",
    "\n",
    "# 全結合層の構築\n",
    "top_model = Sequential()\n",
    "top_model.add(Flatten(input_shape=v3_model.output_shape[1:]))\n",
    "top_model.add(Dense(256))\n",
    "top_model.add(Activation(\"relu\"))\n",
    "top_model.add(Dropout(0.5))\n",
    "top_model.add(Dense(nb_classes))\n",
    "top_model.add(Activation(\"softmax\"))\n",
    "\n",
    "model = Model(input=v3_model.input, output=top_model(v3_model.output))\n",
    "\n",
    "for layer in v3_model.layers:\n",
    "    layer.trainable = False\n",
    "\n",
    "# モデルのコンパイル\n",
    "# 学習のためのモデルを設定\n",
    "model.compile(loss=keras.losses.categorical_crossentropy,\n",
    "              optimizer=keras.optimizers.Adadelta(),\n",
    "              metrics=['accuracy'])\n",
    "\n",
    "# 過学習の抑制\n",
    "early_stopping = EarlyStopping(monitor='val_loss', patience=5 , verbose=1)\n",
    "\n",
    "# 評価に用いるモデル重みデータの保存\n",
    "checkpointer = ModelCheckpoint(model_weights, monitor='val_loss', \n",
    "                               verbose=1, save_best_only=True)\n",
    "\n",
    "# リアルタイムに水増し生成されるバッチ画像に対するモデルの適用\n",
    "history =model.fit_generator(datagen.flow(X_train, y_train, batch_size=batch_size),\n",
    "                          samples_per_epoch=X_train.shape[0],\n",
    "                          nb_epoch=nb_epoch,\n",
    "                          verbose=1,\n",
    "                          validation_data=(X_test, y_test),\n",
    "                          callbacks=[early_stopping, checkpointer])\n",
    "\n",
    "score = model.evaluate(X_test, y_test, verbose=0)\n",
    "print('Test loss:', score[0])\n",
    "print('Test accuracy:', score[1])\n",
    "\n",
    "# 評価に用いるモデル構造の保存\n",
    "def save_model(model):\n",
    "    json_string = model.to_json()\n",
    "    if not os.path.isdir(\"v3_model\"):\n",
    "        os.mkdir(\"v3_model\")\n",
    "    json_name = \"v3_architecture.json\"\n",
    "    open(os.path.join(\"v3_model\", json_name),\"w\").write(json_string)\n",
    "\n",
    "save_model(model)"
   ]
  },
  {
   "cell_type": "code",
   "execution_count": 4,
   "metadata": {},
   "outputs": [
    {
     "data": {
      "image/png": "[encoded data removed]",
      "text/plain": [
       "<Figure size 432x288 with 1 Axes>"
      ]
     },
     "metadata": {},
     "output_type": "display_data"
    },
    {
     "data": {
      "image/png": "[encoded data removed]",
      "text/plain": [
       "<Figure size 432x288 with 1 Axes>"
      ]
     },
     "metadata": {},
     "output_type": "display_data"
    }
   ],
   "source": [
    "#Accuracy\n",
    "plt.plot(history.history['acc'])\n",
    "plt.plot(history.history['val_acc'])\n",
    "plt.title('model accuracy')\n",
    "plt.ylabel('accuracy')\n",
    "plt.xlabel('epoch')\n",
    "plt.legend(['train', 'test'], loc='upper left')\n",
    "plt.show()\n",
    "#loss\n",
    "plt.plot(history.history['loss'])\n",
    "plt.plot(history.history['val_loss'])\n",
    "plt.title('model loss')\n",
    "plt.ylabel('loss')\n",
    "plt.xlabel('epoch')\n",
    "plt.legend(['train', 'test'], loc='upper left')\n",
    "plt.show()"
   ]
  },
  {
   "cell_type": "code",
   "execution_count": null,
   "metadata": {
    "collapsed": true
   },
   "outputs": [],
   "source": []
  },
  {
   "cell_type": "code",
   "execution_count": null,
   "metadata": {
    "collapsed": true
   },
   "outputs": [],
   "source": []
  },
  {
   "cell_type": "code",
   "execution_count": null,
   "metadata": {
    "collapsed": true
   },
   "outputs": [],
   "source": []
  }
 ],
 "metadata": {
  "kernelspec": {
   "display_name": "Python 3",
   "language": "python",
   "name": "python3"
  },
  "language_info": {
   "codemirror_mode": {
    "name": "ipython",
    "version": 3
   },
   "file_extension": ".py",
   "mimetype": "text/x-python",
   "name": "python",
   "nbconvert_exporter": "python",
   "pygments_lexer": "ipython3",
   "version": "3.6.5"
  }
 },
 "nbformat": 4,
 "nbformat_minor": 2
}
